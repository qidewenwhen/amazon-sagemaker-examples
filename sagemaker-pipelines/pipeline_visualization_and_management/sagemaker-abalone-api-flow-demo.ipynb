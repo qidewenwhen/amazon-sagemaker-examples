{
 "cells": [
  {
   "cell_type": "markdown",
   "metadata": {},
   "source": [
    "## Pipeline Visualization/Management API Flow Demo \n",
    "\n",
    "This notebook utilizes the private Tioga endpoint in my development account to make API calls. This is due to the fact my newly added DescribePipelineGraph has not been released yet. This notebook is mainly created to demonstrate the .load() method and a .display() call on an ImmutablePipeline.\n",
    "\n",
    "The Abalone Sagemaker Example notebook will be utilized to demonstrated my implemented workflows: https://github.com/aws/amazon-sagemaker-examples/blob/main/sagemaker-pipelines/tabular/abalone_build_train_deploy/sagemaker-pipelines-preprocess-train-evaluate-batch-transform.ipynb."
   ]
  },
  {
   "cell_type": "code",
   "execution_count": null,
   "metadata": {},
   "outputs": [],
   "source": [
    "!pip install ApiFlow.tar.gz\n",
    "\n",
    "import boto3\n",
    "import sagemaker\n",
    "from sagemaker.workflow.pipeline import Pipeline, load, list_pipelines\n",
    "\n",
    "session = boto3.Session(region_name=\"us-west-2\")\n",
    "imtioga_client = session.client(\n",
    "        \"im-tioga\",\n",
    "        \"us-west-2\",\n",
    "        endpoint_url=\"https://vi4ggzrcnk.execute-api.us-west-2.amazonaws.com/prod\",\n",
    "    )\n",
    "tioga_session = sagemaker.session.Session(sagemaker_client=imtioga_client)"
   ]
  },
  {
   "cell_type": "code",
   "execution_count": null,
   "metadata": {},
   "outputs": [],
   "source": [
    "pipeline_name= 'AbalonePipeline-2022-07-26-23-44-05-412'\n",
    "pipeline_arn = \"arn:aws:sagemaker:us-west-2:673969459066:pipeline/abalonepipeline\"\n",
    "execution_arn = \"arn:aws:sagemaker:us-west-2:673969459066:pipeline/abalonepipeline/execution/abcd\""
   ]
  },
  {
   "cell_type": "markdown",
   "metadata": {},
   "source": [
    "![Define a Pipeline of Parameters, Steps, and Conditions](img/pipeline-7.png)"
   ]
  },
  {
   "cell_type": "markdown",
   "metadata": {},
   "source": [
    "## List_Pipeline/Load Method"
   ]
  },
  {
   "cell_type": "markdown",
   "metadata": {},
   "source": [
    "### list_pipelines() returns a list of existing pipelines"
   ]
  },
  {
   "cell_type": "code",
   "execution_count": null,
   "metadata": {},
   "outputs": [],
   "source": [
    "list_pipelines(sagemaker_session=tioga_session)"
   ]
  },
  {
   "cell_type": "markdown",
   "metadata": {},
   "source": [
    "### Call .load() to load an existing pipeline and returns an ImmutablePipeline"
   ]
  },
  {
   "cell_type": "code",
   "execution_count": null,
   "metadata": {
    "scrolled": true
   },
   "outputs": [],
   "source": [
    "pipeline2 = load(pipeline_arn=pipeline_arn, sagemaker_session=tioga_session)\n",
    "pipeline2"
   ]
  },
  {
   "cell_type": "code",
   "execution_count": null,
   "metadata": {
    "scrolled": true
   },
   "outputs": [],
   "source": [
    "#Print describe_pipeline_graph API call response\n",
    "pipeline2.display(pipeline_arn=pipeline_arn)"
   ]
  },
  {
   "cell_type": "markdown",
   "metadata": {},
   "source": [
    "### Start a pipeline execution & call .display() on the execution "
   ]
  },
  {
   "cell_type": "code",
   "execution_count": null,
   "metadata": {},
   "outputs": [],
   "source": [
    "execution = pipeline2.start(pipeline_arn=pipeline_arn, pipeline_execution_arn=execution_arn)\n",
    "execution"
   ]
  },
  {
   "cell_type": "code",
   "execution_count": null,
   "metadata": {},
   "outputs": [],
   "source": [
    "execution.list_steps(InvocationContext={\"AccountId\": \"673969459066\"})"
   ]
  },
  {
   "cell_type": "code",
   "execution_count": null,
   "metadata": {},
   "outputs": [],
   "source": [
    "execution.display(pipeline_arn=pipeline_arn)"
   ]
  },
  {
   "cell_type": "code",
   "execution_count": null,
   "metadata": {},
   "outputs": [],
   "source": []
  }
 ],
 "metadata": {
  "instance_type": "ml.t3.medium",
  "kernelspec": {
   "display_name": "Python 3 (ipykernel)",
   "language": "python",
   "name": "python3"
  },
  "language_info": {
   "codemirror_mode": {
    "name": "ipython",
    "version": 3
   },
   "file_extension": ".py",
   "mimetype": "text/x-python",
   "name": "python",
   "nbconvert_exporter": "python",
   "pygments_lexer": "ipython3",
   "version": "3.9.12"
  }
 },
 "nbformat": 4,
 "nbformat_minor": 4
}
